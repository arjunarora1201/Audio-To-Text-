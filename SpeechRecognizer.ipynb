{
  "nbformat": 4,
  "nbformat_minor": 0,
  "metadata": {
    "colab": {
      "provenance": [],
      "include_colab_link": true
    },
    "kernelspec": {
      "name": "python3",
      "display_name": "Python 3"
    },
    "language_info": {
      "name": "python"
    }
  },
  "cells": [
    {
      "cell_type": "markdown",
      "metadata": {
        "id": "view-in-github",
        "colab_type": "text"
      },
      "source": [
        "<a href=\"https://colab.research.google.com/github/arjunarora1201/Audio-To-Text-/blob/main/SpeechRecognizer.ipynb\" target=\"_parent\"><img src=\"https://colab.research.google.com/assets/colab-badge.svg\" alt=\"Open In Colab\"/></a>"
      ]
    },
    {
      "cell_type": "markdown",
      "source": [
        "Importing Libraries"
      ],
      "metadata": {
        "id": "fyrP3pbR5RvT"
      }
    },
    {
      "cell_type": "code",
      "source": [
        "pip install SpeechRecognition pydub"
      ],
      "metadata": {
        "id": "-P5_vV-8Iwon",
        "colab": {
          "base_uri": "https://localhost:8080/"
        },
        "outputId": "bdaa83a6-488c-404c-a4d4-a892635ba324"
      },
      "execution_count": 17,
      "outputs": [
        {
          "output_type": "stream",
          "name": "stdout",
          "text": [
            "Requirement already satisfied: SpeechRecognition in /usr/local/lib/python3.11/dist-packages (3.14.3)\n",
            "Requirement already satisfied: pydub in /usr/local/lib/python3.11/dist-packages (0.25.1)\n",
            "Requirement already satisfied: typing-extensions in /usr/local/lib/python3.11/dist-packages (from SpeechRecognition) (4.14.0)\n"
          ]
        }
      ]
    },
    {
      "cell_type": "code",
      "source": [
        "!sudo apt update && sudo apt install -y ffmpeg"
      ],
      "metadata": {
        "colab": {
          "base_uri": "https://localhost:8080/"
        },
        "id": "e7zOf4_SA7ef",
        "outputId": "51dbf452-d63e-475f-f178-e12756a8de3e"
      },
      "execution_count": 16,
      "outputs": [
        {
          "output_type": "stream",
          "name": "stdout",
          "text": [
            "\u001b[33m\r0% [Working]\u001b[0m\r            \rHit:1 http://archive.ubuntu.com/ubuntu jammy InRelease\n",
            "\u001b[33m\r0% [Waiting for headers] [Connecting to security.ubuntu.com (185.125.190.83)] [\u001b[0m\r                                                                               \rGet:2 http://archive.ubuntu.com/ubuntu jammy-updates InRelease [128 kB]\n",
            "\r                                                                               \rGet:3 https://cloud.r-project.org/bin/linux/ubuntu jammy-cran40/ InRelease [3,632 B]\n",
            "Hit:4 https://developer.download.nvidia.com/compute/cuda/repos/ubuntu2204/x86_64  InRelease\n",
            "Get:5 http://security.ubuntu.com/ubuntu jammy-security InRelease [129 kB]\n",
            "Get:6 https://r2u.stat.illinois.edu/ubuntu jammy InRelease [6,555 B]\n",
            "Get:7 http://archive.ubuntu.com/ubuntu jammy-backports InRelease [127 kB]\n",
            "Hit:8 https://ppa.launchpadcontent.net/deadsnakes/ppa/ubuntu jammy InRelease\n",
            "Get:9 http://archive.ubuntu.com/ubuntu jammy-updates/restricted amd64 Packages [4,710 kB]\n",
            "Hit:10 https://ppa.launchpadcontent.net/graphics-drivers/ppa/ubuntu jammy InRelease\n",
            "Hit:11 https://ppa.launchpadcontent.net/ubuntugis/ppa/ubuntu jammy InRelease\n",
            "Get:12 https://r2u.stat.illinois.edu/ubuntu jammy/main amd64 Packages [2,747 kB]\n",
            "Get:13 http://archive.ubuntu.com/ubuntu jammy-updates/universe amd64 Packages [1,561 kB]\n",
            "Get:14 http://archive.ubuntu.com/ubuntu jammy-updates/main amd64 Packages [3,343 kB]\n",
            "Get:15 https://r2u.stat.illinois.edu/ubuntu jammy/main all Packages [9,050 kB]\n",
            "Get:16 http://security.ubuntu.com/ubuntu jammy-security/restricted amd64 Packages [4,532 kB]\n",
            "Get:17 http://security.ubuntu.com/ubuntu jammy-security/universe amd64 Packages [1,253 kB]\n",
            "Get:18 http://security.ubuntu.com/ubuntu jammy-security/main amd64 Packages [3,024 kB]\n",
            "Fetched 30.6 MB in 3s (10.1 MB/s)\n",
            "Reading package lists... Done\n",
            "Building dependency tree... Done\n",
            "Reading state information... Done\n",
            "38 packages can be upgraded. Run 'apt list --upgradable' to see them.\n",
            "\u001b[1;33mW: \u001b[0mSkipping acquire of configured file 'main/source/Sources' as repository 'https://r2u.stat.illinois.edu/ubuntu jammy InRelease' does not seem to provide it (sources.list entry misspelt?)\u001b[0m\n",
            "Reading package lists... Done\n",
            "Building dependency tree... Done\n",
            "Reading state information... Done\n",
            "ffmpeg is already the newest version (7:4.4.2-0ubuntu0.22.04.1).\n",
            "0 upgraded, 0 newly installed, 0 to remove and 38 not upgraded.\n"
          ]
        }
      ]
    },
    {
      "cell_type": "code",
      "source": [],
      "metadata": {
        "id": "iUOVmbwWA7YQ"
      },
      "execution_count": null,
      "outputs": []
    },
    {
      "cell_type": "code",
      "execution_count": 18,
      "metadata": {
        "id": "_ByUN1zE2_gE"
      },
      "outputs": [],
      "source": [
        "import speech_recognition as sr\n",
        "import os\n",
        "import subprocess\n",
        "from google.colab import files\n",
        "from pydub import AudioSegment\n",
        "from pydub.silence import split_on_silence"
      ]
    },
    {
      "cell_type": "markdown",
      "source": [
        "Upload Audio File"
      ],
      "metadata": {
        "id": "Ij-3BYvJmqco"
      }
    },
    {
      "cell_type": "code",
      "source": [
        "uploaded = files.upload()\n",
        "input_filename = next(iter(uploaded))"
      ],
      "metadata": {
        "id": "WlD1Mwjvlg6p",
        "colab": {
          "base_uri": "https://localhost:8080/",
          "height": 73
        },
        "outputId": "a3b933c0-c9e9-4991-ba1a-46b6d018db61"
      },
      "execution_count": 20,
      "outputs": [
        {
          "output_type": "display_data",
          "data": {
            "text/plain": [
              "<IPython.core.display.HTML object>"
            ],
            "text/html": [
              "\n",
              "     <input type=\"file\" id=\"files-3247fec0-5d23-4fae-a4a8-daf4331b4692\" name=\"files[]\" multiple disabled\n",
              "        style=\"border:none\" />\n",
              "     <output id=\"result-3247fec0-5d23-4fae-a4a8-daf4331b4692\">\n",
              "      Upload widget is only available when the cell has been executed in the\n",
              "      current browser session. Please rerun this cell to enable.\n",
              "      </output>\n",
              "      <script>// Copyright 2017 Google LLC\n",
              "//\n",
              "// Licensed under the Apache License, Version 2.0 (the \"License\");\n",
              "// you may not use this file except in compliance with the License.\n",
              "// You may obtain a copy of the License at\n",
              "//\n",
              "//      http://www.apache.org/licenses/LICENSE-2.0\n",
              "//\n",
              "// Unless required by applicable law or agreed to in writing, software\n",
              "// distributed under the License is distributed on an \"AS IS\" BASIS,\n",
              "// WITHOUT WARRANTIES OR CONDITIONS OF ANY KIND, either express or implied.\n",
              "// See the License for the specific language governing permissions and\n",
              "// limitations under the License.\n",
              "\n",
              "/**\n",
              " * @fileoverview Helpers for google.colab Python module.\n",
              " */\n",
              "(function(scope) {\n",
              "function span(text, styleAttributes = {}) {\n",
              "  const element = document.createElement('span');\n",
              "  element.textContent = text;\n",
              "  for (const key of Object.keys(styleAttributes)) {\n",
              "    element.style[key] = styleAttributes[key];\n",
              "  }\n",
              "  return element;\n",
              "}\n",
              "\n",
              "// Max number of bytes which will be uploaded at a time.\n",
              "const MAX_PAYLOAD_SIZE = 100 * 1024;\n",
              "\n",
              "function _uploadFiles(inputId, outputId) {\n",
              "  const steps = uploadFilesStep(inputId, outputId);\n",
              "  const outputElement = document.getElementById(outputId);\n",
              "  // Cache steps on the outputElement to make it available for the next call\n",
              "  // to uploadFilesContinue from Python.\n",
              "  outputElement.steps = steps;\n",
              "\n",
              "  return _uploadFilesContinue(outputId);\n",
              "}\n",
              "\n",
              "// This is roughly an async generator (not supported in the browser yet),\n",
              "// where there are multiple asynchronous steps and the Python side is going\n",
              "// to poll for completion of each step.\n",
              "// This uses a Promise to block the python side on completion of each step,\n",
              "// then passes the result of the previous step as the input to the next step.\n",
              "function _uploadFilesContinue(outputId) {\n",
              "  const outputElement = document.getElementById(outputId);\n",
              "  const steps = outputElement.steps;\n",
              "\n",
              "  const next = steps.next(outputElement.lastPromiseValue);\n",
              "  return Promise.resolve(next.value.promise).then((value) => {\n",
              "    // Cache the last promise value to make it available to the next\n",
              "    // step of the generator.\n",
              "    outputElement.lastPromiseValue = value;\n",
              "    return next.value.response;\n",
              "  });\n",
              "}\n",
              "\n",
              "/**\n",
              " * Generator function which is called between each async step of the upload\n",
              " * process.\n",
              " * @param {string} inputId Element ID of the input file picker element.\n",
              " * @param {string} outputId Element ID of the output display.\n",
              " * @return {!Iterable<!Object>} Iterable of next steps.\n",
              " */\n",
              "function* uploadFilesStep(inputId, outputId) {\n",
              "  const inputElement = document.getElementById(inputId);\n",
              "  inputElement.disabled = false;\n",
              "\n",
              "  const outputElement = document.getElementById(outputId);\n",
              "  outputElement.innerHTML = '';\n",
              "\n",
              "  const pickedPromise = new Promise((resolve) => {\n",
              "    inputElement.addEventListener('change', (e) => {\n",
              "      resolve(e.target.files);\n",
              "    });\n",
              "  });\n",
              "\n",
              "  const cancel = document.createElement('button');\n",
              "  inputElement.parentElement.appendChild(cancel);\n",
              "  cancel.textContent = 'Cancel upload';\n",
              "  const cancelPromise = new Promise((resolve) => {\n",
              "    cancel.onclick = () => {\n",
              "      resolve(null);\n",
              "    };\n",
              "  });\n",
              "\n",
              "  // Wait for the user to pick the files.\n",
              "  const files = yield {\n",
              "    promise: Promise.race([pickedPromise, cancelPromise]),\n",
              "    response: {\n",
              "      action: 'starting',\n",
              "    }\n",
              "  };\n",
              "\n",
              "  cancel.remove();\n",
              "\n",
              "  // Disable the input element since further picks are not allowed.\n",
              "  inputElement.disabled = true;\n",
              "\n",
              "  if (!files) {\n",
              "    return {\n",
              "      response: {\n",
              "        action: 'complete',\n",
              "      }\n",
              "    };\n",
              "  }\n",
              "\n",
              "  for (const file of files) {\n",
              "    const li = document.createElement('li');\n",
              "    li.append(span(file.name, {fontWeight: 'bold'}));\n",
              "    li.append(span(\n",
              "        `(${file.type || 'n/a'}) - ${file.size} bytes, ` +\n",
              "        `last modified: ${\n",
              "            file.lastModifiedDate ? file.lastModifiedDate.toLocaleDateString() :\n",
              "                                    'n/a'} - `));\n",
              "    const percent = span('0% done');\n",
              "    li.appendChild(percent);\n",
              "\n",
              "    outputElement.appendChild(li);\n",
              "\n",
              "    const fileDataPromise = new Promise((resolve) => {\n",
              "      const reader = new FileReader();\n",
              "      reader.onload = (e) => {\n",
              "        resolve(e.target.result);\n",
              "      };\n",
              "      reader.readAsArrayBuffer(file);\n",
              "    });\n",
              "    // Wait for the data to be ready.\n",
              "    let fileData = yield {\n",
              "      promise: fileDataPromise,\n",
              "      response: {\n",
              "        action: 'continue',\n",
              "      }\n",
              "    };\n",
              "\n",
              "    // Use a chunked sending to avoid message size limits. See b/62115660.\n",
              "    let position = 0;\n",
              "    do {\n",
              "      const length = Math.min(fileData.byteLength - position, MAX_PAYLOAD_SIZE);\n",
              "      const chunk = new Uint8Array(fileData, position, length);\n",
              "      position += length;\n",
              "\n",
              "      const base64 = btoa(String.fromCharCode.apply(null, chunk));\n",
              "      yield {\n",
              "        response: {\n",
              "          action: 'append',\n",
              "          file: file.name,\n",
              "          data: base64,\n",
              "        },\n",
              "      };\n",
              "\n",
              "      let percentDone = fileData.byteLength === 0 ?\n",
              "          100 :\n",
              "          Math.round((position / fileData.byteLength) * 100);\n",
              "      percent.textContent = `${percentDone}% done`;\n",
              "\n",
              "    } while (position < fileData.byteLength);\n",
              "  }\n",
              "\n",
              "  // All done.\n",
              "  yield {\n",
              "    response: {\n",
              "      action: 'complete',\n",
              "    }\n",
              "  };\n",
              "}\n",
              "\n",
              "scope.google = scope.google || {};\n",
              "scope.google.colab = scope.google.colab || {};\n",
              "scope.google.colab._files = {\n",
              "  _uploadFiles,\n",
              "  _uploadFilesContinue,\n",
              "};\n",
              "})(self);\n",
              "</script> "
            ]
          },
          "metadata": {}
        },
        {
          "output_type": "stream",
          "name": "stdout",
          "text": [
            "Saving 01.mp3 to 01 (1).mp3\n"
          ]
        }
      ]
    },
    {
      "cell_type": "markdown",
      "source": [
        "Convert Mp3 to Wav format"
      ],
      "metadata": {
        "id": "_xRgWlFnmuR3"
      }
    },
    {
      "cell_type": "code",
      "source": [
        "try:\n",
        "    # First try with pydub\n",
        "    sound = AudioSegment.from_file(input_filename)\n",
        "    wav_filename = \"converted_audio.wav\"\n",
        "    sound.export(wav_filename, format=\"wav\")\n",
        "except:\n",
        "    # Fallback to ffmpeg if pydub fails\n",
        "    !ffmpeg -i \"{input_filename}\" -acodec pcm_s16le -ar 16000 \"{wav_filename}\" -y\n",
        "\n",
        "if not os.path.exists(wav_filename):\n",
        "    raise FileNotFoundError(f\"Conversion failed: {wav_filename} not created\")"
      ],
      "metadata": {
        "id": "nT5WPLM_k45I"
      },
      "execution_count": 22,
      "outputs": []
    },
    {
      "cell_type": "markdown",
      "source": [
        "Main Function"
      ],
      "metadata": {
        "id": "HVftl1_Cm3Ev"
      }
    },
    {
      "cell_type": "code",
      "source": [
        "r = sr.Recognizer()\n",
        "\n",
        "def get_large_audio_transcription(path):\n",
        "    \"\"\"Split audio into chunks and recognize speech\"\"\"\n",
        "    try:\n",
        "        sound = AudioSegment.from_wav(path)\n",
        "    except:\n",
        "        # If standard WAV load fails, try forcing format\n",
        "        sound = AudioSegment.from_file(path, format=\"wav\")\n",
        "\n",
        "    chunks = split_on_silence(\n",
        "        sound,\n",
        "        min_silence_len=500,\n",
        "        silence_thresh=sound.dBFS-14,\n",
        "        keep_silence=500\n",
        "    )\n",
        "\n",
        "    folder_name = \"audio-chunks\"\n",
        "    os.makedirs(folder_name, exist_ok=True)\n",
        "\n",
        "    whole_text = \"\"\n",
        "\n",
        "    for i, chunk in enumerate(chunks, start=1):\n",
        "        chunk_filename = os.path.join(folder_name, f\"chunk{i}.wav\")\n",
        "        chunk.export(chunk_filename, format=\"wav\")\n",
        "\n",
        "        with sr.AudioFile(chunk_filename) as source:\n",
        "            audio = r.record(source)\n",
        "            try:\n",
        "                text = r.recognize_google(audio)\n",
        "                text = f\"{text.capitalize()}. \"\n",
        "                print(f\"Chunk {i}: {text}\")\n",
        "                whole_text += text\n",
        "            except sr.UnknownValueError:\n",
        "                print(f\"Chunk {i}: Could not understand audio\")\n",
        "            except sr.RequestError as e:\n",
        "                print(f\"Chunk {i}: API error; {e}\")\n",
        "\n",
        "    return whole_text"
      ],
      "metadata": {
        "id": "GRusdZC34y4t"
      },
      "execution_count": 23,
      "outputs": []
    },
    {
      "cell_type": "code",
      "source": [
        "print(\"\\nStarting transcription...\")\n",
        "result = get_large_audio_transcription(wav_filename)\n",
        "print(\"\\nFull transcription:\")\n",
        "print(result)"
      ],
      "metadata": {
        "id": "ZVlNFunj8Guh",
        "colab": {
          "base_uri": "https://localhost:8080/"
        },
        "outputId": "e75168e0-83d8-40df-a8fc-7e855ee7f7f6"
      },
      "execution_count": 24,
      "outputs": [
        {
          "output_type": "stream",
          "name": "stdout",
          "text": [
            "\n",
            "Starting transcription...\n",
            "Chunk 1: Day 8. \n",
            "Chunk 2: Could not understand audio\n",
            "Chunk 3: Describing a person. \n",
            "Chunk 4: Q card. \n",
            "Chunk 5: Describe a famous person you would like to meet. \n",
            "Chunk 6: You should say who it is. \n",
            "Chunk 7: What they are famous for. \n",
            "Chunk 8: What you would do if you meet them. \n",
            "Chunk 9: And explain why you would like to meet them. \n",
            "Chunk 10: Sample answer. \n",
            "Chunk 11: Well the person i'd like to meet most is johnny mo. \n",
            "Chunk 12: Who is a very famous film director in china. \n",
            "Chunk 13: I've always admired him. \n",
            "Chunk 14: He's a man of average height in his forties i think. \n",
            "Chunk 15: So far he has directed many good films. \n",
            "Chunk 16: He's well-known in china for his versatile talents. \n",
            "Chunk 17: First of all he's a famous director. \n",
            "Chunk 18: Most of his films have won international prizes. \n",
            "Chunk 19: And the actresses who have appeared in his films would consequently become popular as well. \n",
            "Chunk 20: I like his film the road home. \n",
            "Chunk 21: Which describes how a young teacher and a girl. \n",
            "Chunk 22: Fell in love. \n",
            "Chunk 23: And how they worked and enjoyed their life in a small village. \n",
            "Chunk 24: It's really touching with very good photography. \n",
            "Chunk 25: And nice music. \n",
            "Chunk 26: In spite of the simple plot. \n",
            "Chunk 27: Apart from his directing. \n",
            "Chunk 28: He has appeared in many films as the main character. \n",
            "Chunk 29: Which always gives people a very deep impression. \n",
            "Chunk 30: I clearly remember one film in which he played the role of a terracotta warrior who came back to life and got involved in a love affair with a woman. \n",
            "Chunk 31: In recent years instead of depicting the uncivilized and backward life in the country areas. \n",
            "Chunk 32: He has made great efforts to publicize chinese culture. \n",
            "Chunk 33: One of his famous works is a short documentary assisting china to bid for the 2008 olympic games. \n",
            "Chunk 34: It's quite spectacular. \n",
            "Chunk 35: He is the kind of person i would really like to meet. \n",
            "Chunk 36: As he's a very good example of success through unfailing effort perseverance and struggle. \n",
            "Chunk 37: If i met him i'd like to ask him about how he has succeeded against all odds. \n",
            "Chunk 38: I also like to get some advice as to how to achieve self-fulfillment as he has done. \n",
            "\n",
            "Full transcription:\n",
            "Day 8. Describing a person. Q card. Describe a famous person you would like to meet. You should say who it is. What they are famous for. What you would do if you meet them. And explain why you would like to meet them. Sample answer. Well the person i'd like to meet most is johnny mo. Who is a very famous film director in china. I've always admired him. He's a man of average height in his forties i think. So far he has directed many good films. He's well-known in china for his versatile talents. First of all he's a famous director. Most of his films have won international prizes. And the actresses who have appeared in his films would consequently become popular as well. I like his film the road home. Which describes how a young teacher and a girl. Fell in love. And how they worked and enjoyed their life in a small village. It's really touching with very good photography. And nice music. In spite of the simple plot. Apart from his directing. He has appeared in many films as the main character. Which always gives people a very deep impression. I clearly remember one film in which he played the role of a terracotta warrior who came back to life and got involved in a love affair with a woman. In recent years instead of depicting the uncivilized and backward life in the country areas. He has made great efforts to publicize chinese culture. One of his famous works is a short documentary assisting china to bid for the 2008 olympic games. It's quite spectacular. He is the kind of person i would really like to meet. As he's a very good example of success through unfailing effort perseverance and struggle. If i met him i'd like to ask him about how he has succeeded against all odds. I also like to get some advice as to how to achieve self-fulfillment as he has done. \n"
          ]
        }
      ]
    }
  ]
}